{
  "nbformat": 4,
  "nbformat_minor": 0,
  "metadata": {
    "colab": {
      "name": "experiment_tf_enhanced.ipynb",
      "provenance": [],
      "machine_shape": "hm"
    },
    "kernelspec": {
      "name": "python3",
      "display_name": "Python 3"
    },
    "language_info": {
      "name": "python"
    },
    "accelerator": "GPU"
  },
  "cells": [
    {
      "cell_type": "code",
      "execution_count": 4,
      "metadata": {
        "colab": {
          "base_uri": "https://localhost:8080/"
        },
        "id": "alCDr1O6zwev",
        "outputId": "5ca94af3-46f1-4bda-8008-e5fcb8a505df"
      },
      "outputs": [
        {
          "output_type": "stream",
          "name": "stdout",
          "text": [
            "Drive already mounted at /content/gdrive; to attempt to forcibly remount, call drive.mount(\"/content/gdrive\", force_remount=True).\n"
          ]
        }
      ],
      "source": [
        "from google.colab import drive\n",
        "drive.mount(\"/content/gdrive\")"
      ]
    },
    {
      "cell_type": "code",
      "source": [
        "import sys\n",
        "sys.path.append('/content/gdrive/MyDrive/6893/')"
      ],
      "metadata": {
        "id": "UtZ6lQ3Gz6dk"
      },
      "execution_count": 5,
      "outputs": []
    },
    {
      "cell_type": "code",
      "source": [
        "import numpy as np\n",
        "import pandas as pd\n",
        "from sklearn.pipeline import make_pipeline\n",
        "from sklearn.compose import make_column_transformer\n",
        "from sklearn.neighbors import KNeighborsClassifier\n",
        "from sklearn import metrics\n",
        "from sklearn.feature_extraction.text import TfidfVectorizer\n",
        "from sklearn.model_selection import train_test_split\n",
        "import gensim\n",
        "from gensim.models import Word2Vec\n",
        "from sklearn.metrics import classification_report\n",
        "import re"
      ],
      "metadata": {
        "id": "w6T_EZRw0ASd"
      },
      "execution_count": 6,
      "outputs": []
    },
    {
      "cell_type": "code",
      "source": [
        "df = pd.read_csv(\"/content/gdrive/MyDrive/6893/tidydata.csv\")\n",
        "df['label'] = df['recommended'].apply(lambda x: 0 if x== True else 1)\n",
        "X = df[['review']]\n",
        "X['review']=X['review'].apply(lambda x: np.str_(x))\n",
        "y = df['label']\n",
        "X_train, X_test, y_train, y_test = train_test_split(X, y, test_size=0.2, random_state=40)\n",
        "print(X_train.shape)\n",
        "print(X_test.shape)\n",
        "print(y_train.shape)\n",
        "print(y_test.shape)"
      ],
      "metadata": {
        "colab": {
          "base_uri": "https://localhost:8080/"
        },
        "id": "BuEHE-AT0I9y",
        "outputId": "81ff6f96-76d7-406c-8811-81a8d324b5be"
      },
      "execution_count": 7,
      "outputs": [
        {
          "output_type": "stream",
          "name": "stdout",
          "text": [
            "(168002, 1)\n",
            "(42001, 1)\n",
            "(168002,)\n",
            "(42001,)\n"
          ]
        },
        {
          "output_type": "stream",
          "name": "stderr",
          "text": [
            "/usr/local/lib/python3.7/dist-packages/ipykernel_launcher.py:4: SettingWithCopyWarning: \n",
            "A value is trying to be set on a copy of a slice from a DataFrame.\n",
            "Try using .loc[row_indexer,col_indexer] = value instead\n",
            "\n",
            "See the caveats in the documentation: https://pandas.pydata.org/pandas-docs/stable/user_guide/indexing.html#returning-a-view-versus-a-copy\n",
            "  after removing the cwd from sys.path.\n"
          ]
        }
      ]
    },
    {
      "cell_type": "code",
      "source": [
        "X_train.head()"
      ],
      "metadata": {
        "colab": {
          "base_uri": "https://localhost:8080/",
          "height": 206
        },
        "id": "hy5b9aTa0SeE",
        "outputId": "a89b0d14-bd81-41ef-a8f5-3ba84cb7160e"
      },
      "execution_count": 12,
      "outputs": [
        {
          "output_type": "execute_result",
          "data": {
            "text/html": [
              "\n",
              "  <div id=\"df-f5b74632-1b15-4846-bb4e-3a3230705449\">\n",
              "    <div class=\"colab-df-container\">\n",
              "      <div>\n",
              "<style scoped>\n",
              "    .dataframe tbody tr th:only-of-type {\n",
              "        vertical-align: middle;\n",
              "    }\n",
              "\n",
              "    .dataframe tbody tr th {\n",
              "        vertical-align: top;\n",
              "    }\n",
              "\n",
              "    .dataframe thead th {\n",
              "        text-align: right;\n",
              "    }\n",
              "</style>\n",
              "<table border=\"1\" class=\"dataframe\">\n",
              "  <thead>\n",
              "    <tr style=\"text-align: right;\">\n",
              "      <th></th>\n",
              "      <th>review</th>\n",
              "    </tr>\n",
              "  </thead>\n",
              "  <tbody>\n",
              "    <tr>\n",
              "      <th>30220</th>\n",
              "      <td>head bobbing feature give motion sickness opti...</td>\n",
              "    </tr>\n",
              "    <tr>\n",
              "      <th>51343</th>\n",
              "      <td>boring gameplay</td>\n",
              "    </tr>\n",
              "    <tr>\n",
              "      <th>151799</th>\n",
              "      <td>cute</td>\n",
              "    </tr>\n",
              "    <tr>\n",
              "      <th>58107</th>\n",
              "      <td>i 'd rather play fortnite</td>\n",
              "    </tr>\n",
              "    <tr>\n",
              "      <th>122153</th>\n",
              "      <td>rating 10/10 intended audience 閳斤拷 kid 閳斤拷 eve...</td>\n",
              "    </tr>\n",
              "  </tbody>\n",
              "</table>\n",
              "</div>\n",
              "      <button class=\"colab-df-convert\" onclick=\"convertToInteractive('df-f5b74632-1b15-4846-bb4e-3a3230705449')\"\n",
              "              title=\"Convert this dataframe to an interactive table.\"\n",
              "              style=\"display:none;\">\n",
              "        \n",
              "  <svg xmlns=\"http://www.w3.org/2000/svg\" height=\"24px\"viewBox=\"0 0 24 24\"\n",
              "       width=\"24px\">\n",
              "    <path d=\"M0 0h24v24H0V0z\" fill=\"none\"/>\n",
              "    <path d=\"M18.56 5.44l.94 2.06.94-2.06 2.06-.94-2.06-.94-.94-2.06-.94 2.06-2.06.94zm-11 1L8.5 8.5l.94-2.06 2.06-.94-2.06-.94L8.5 2.5l-.94 2.06-2.06.94zm10 10l.94 2.06.94-2.06 2.06-.94-2.06-.94-.94-2.06-.94 2.06-2.06.94z\"/><path d=\"M17.41 7.96l-1.37-1.37c-.4-.4-.92-.59-1.43-.59-.52 0-1.04.2-1.43.59L10.3 9.45l-7.72 7.72c-.78.78-.78 2.05 0 2.83L4 21.41c.39.39.9.59 1.41.59.51 0 1.02-.2 1.41-.59l7.78-7.78 2.81-2.81c.8-.78.8-2.07 0-2.86zM5.41 20L4 18.59l7.72-7.72 1.47 1.35L5.41 20z\"/>\n",
              "  </svg>\n",
              "      </button>\n",
              "      \n",
              "  <style>\n",
              "    .colab-df-container {\n",
              "      display:flex;\n",
              "      flex-wrap:wrap;\n",
              "      gap: 12px;\n",
              "    }\n",
              "\n",
              "    .colab-df-convert {\n",
              "      background-color: #E8F0FE;\n",
              "      border: none;\n",
              "      border-radius: 50%;\n",
              "      cursor: pointer;\n",
              "      display: none;\n",
              "      fill: #1967D2;\n",
              "      height: 32px;\n",
              "      padding: 0 0 0 0;\n",
              "      width: 32px;\n",
              "    }\n",
              "\n",
              "    .colab-df-convert:hover {\n",
              "      background-color: #E2EBFA;\n",
              "      box-shadow: 0px 1px 2px rgba(60, 64, 67, 0.3), 0px 1px 3px 1px rgba(60, 64, 67, 0.15);\n",
              "      fill: #174EA6;\n",
              "    }\n",
              "\n",
              "    [theme=dark] .colab-df-convert {\n",
              "      background-color: #3B4455;\n",
              "      fill: #D2E3FC;\n",
              "    }\n",
              "\n",
              "    [theme=dark] .colab-df-convert:hover {\n",
              "      background-color: #434B5C;\n",
              "      box-shadow: 0px 1px 3px 1px rgba(0, 0, 0, 0.15);\n",
              "      filter: drop-shadow(0px 1px 2px rgba(0, 0, 0, 0.3));\n",
              "      fill: #FFFFFF;\n",
              "    }\n",
              "  </style>\n",
              "\n",
              "      <script>\n",
              "        const buttonEl =\n",
              "          document.querySelector('#df-f5b74632-1b15-4846-bb4e-3a3230705449 button.colab-df-convert');\n",
              "        buttonEl.style.display =\n",
              "          google.colab.kernel.accessAllowed ? 'block' : 'none';\n",
              "\n",
              "        async function convertToInteractive(key) {\n",
              "          const element = document.querySelector('#df-f5b74632-1b15-4846-bb4e-3a3230705449');\n",
              "          const dataTable =\n",
              "            await google.colab.kernel.invokeFunction('convertToInteractive',\n",
              "                                                     [key], {});\n",
              "          if (!dataTable) return;\n",
              "\n",
              "          const docLinkHtml = 'Like what you see? Visit the ' +\n",
              "            '<a target=\"_blank\" href=https://colab.research.google.com/notebooks/data_table.ipynb>data table notebook</a>'\n",
              "            + ' to learn more about interactive tables.';\n",
              "          element.innerHTML = '';\n",
              "          dataTable['output_type'] = 'display_data';\n",
              "          await google.colab.output.renderOutput(dataTable, element);\n",
              "          const docLink = document.createElement('div');\n",
              "          docLink.innerHTML = docLinkHtml;\n",
              "          element.appendChild(docLink);\n",
              "        }\n",
              "      </script>\n",
              "    </div>\n",
              "  </div>\n",
              "  "
            ],
            "text/plain": [
              "                                                   review\n",
              "30220   head bobbing feature give motion sickness opti...\n",
              "51343                                     boring gameplay\n",
              "151799                                               cute\n",
              "58107                           i 'd rather play fortnite\n",
              "122153  rating 10/10 intended audience 閳斤拷 kid 閳斤拷 eve..."
            ]
          },
          "metadata": {},
          "execution_count": 12
        }
      ]
    },
    {
      "cell_type": "markdown",
      "source": [
        "### tf"
      ],
      "metadata": {
        "id": "ivpKbvcy0XRV"
      }
    },
    {
      "cell_type": "code",
      "source": [
        "vector = TfidfVectorizer(max_features=1000)\n",
        "train_tfidf = vector.fit_transform(X_train['review'].apply(lambda x: np.str_(x)))\n",
        "test_tfidf = vector.transform(X_test['review'].apply(lambda x: np.str_(x)))\n",
        "df_tfidf_train = pd.DataFrame(train_tfidf.todense())\n",
        "df_tfidf_test = pd.DataFrame(test_tfidf.todense())\n",
        "print(df_tfidf_train.shape)\n",
        "print(df_tfidf_test.shape)"
      ],
      "metadata": {
        "colab": {
          "base_uri": "https://localhost:8080/"
        },
        "id": "uzKv4Fc20ZT_",
        "outputId": "c74574dd-dc3f-4cd7-915e-6779c1bdc401"
      },
      "execution_count": 8,
      "outputs": [
        {
          "output_type": "stream",
          "name": "stdout",
          "text": [
            "(168002, 1000)\n",
            "(42001, 1000)\n"
          ]
        }
      ]
    },
    {
      "cell_type": "markdown",
      "source": [
        "Enhanced features"
      ],
      "metadata": {
        "id": "nF_R2zGwCgkr"
      }
    },
    {
      "cell_type": "markdown",
      "source": [
        "n-grams"
      ],
      "metadata": {
        "id": "aH6Vm_m8CmKK"
      }
    },
    {
      "cell_type": "code",
      "source": [
        "import nltk\n",
        "nltk.download('stopwords')"
      ],
      "metadata": {
        "colab": {
          "base_uri": "https://localhost:8080/"
        },
        "id": "y_lNProNw6mm",
        "outputId": "2d8f5e1e-9416-4abe-9053-c4bc74c08322"
      },
      "execution_count": 28,
      "outputs": [
        {
          "output_type": "stream",
          "name": "stdout",
          "text": [
            "[nltk_data] Downloading package stopwords to /root/nltk_data...\n",
            "[nltk_data]   Unzipping corpora/stopwords.zip.\n"
          ]
        },
        {
          "output_type": "execute_result",
          "data": {
            "text/plain": [
              "True"
            ]
          },
          "metadata": {},
          "execution_count": 28
        }
      ]
    },
    {
      "cell_type": "code",
      "source": [
        "from sklearn.feature_extraction.text import CountVectorizer, TfidfTransformer\n",
        "from nltk.corpus import stopwords\n",
        "from sklearn.feature_selection import SelectKBest\n",
        "en_stopwords = set(stopwords.words(\"english\"))\n",
        "cout = CountVectorizer(ngram_range=(1,3), analyzer='word', lowercase=True, stop_words=en_stopwords)\n",
        "vec_train_ngram = cout.fit_transform(X_train['review'].apply(lambda x: np.str_(x)))\n",
        "#vec_train_ngram = cout.transform().toarray()\n",
        "vec_test_ngram = cout.transform(X_test['review'].apply(lambda x: np.str_(x)))\n",
        "print(vec_train_ngram.shape)\n",
        "print(vec_test_ngram.shape)"
      ],
      "metadata": {
        "colab": {
          "base_uri": "https://localhost:8080/"
        },
        "id": "O6-_VVQJCpQO",
        "outputId": "3b86af60-0896-4b7d-96ec-c9f4e3490b7b"
      },
      "execution_count": 29,
      "outputs": [
        {
          "output_type": "stream",
          "name": "stdout",
          "text": [
            "(168002, 5968945)\n",
            "(42001, 5968945)\n"
          ]
        }
      ]
    },
    {
      "cell_type": "code",
      "source": [
        ""
      ],
      "metadata": {
        "id": "_5wFDZa94a9b"
      },
      "execution_count": null,
      "outputs": []
    },
    {
      "cell_type": "code",
      "source": [
        "skb = SelectKBest(k=600).fit(vec_train_ngram, y_train)\n",
        "train_ngram = skb.transform(vec_train_ngram)\n",
        "test_ngram = skb.transform(vec_test_ngram)\n",
        "print(train_ngram.shape)\n",
        "print(test_ngram.shape)\n",
        "df_ngram_train = pd.DataFrame(train_ngram.todense())\n",
        "df_ngram_test = pd.DataFrame(test_ngram.todense())"
      ],
      "metadata": {
        "colab": {
          "base_uri": "https://localhost:8080/"
        },
        "id": "vhyx39x80DDd",
        "outputId": "6cf57f3b-6dd0-4cb0-d995-db45dbfd5bb7"
      },
      "execution_count": 54,
      "outputs": [
        {
          "output_type": "stream",
          "name": "stdout",
          "text": [
            "(168002, 600)\n",
            "(42001, 600)\n"
          ]
        }
      ]
    },
    {
      "cell_type": "markdown",
      "source": [
        "Lexicon-based feature"
      ],
      "metadata": {
        "id": "h7LvlCjp6o0D"
      }
    },
    {
      "cell_type": "code",
      "source": [
        "from tqdm import tqdm\n",
        "from collections import Counter\n",
        "import nltk\n",
        "from nltk.tokenize import word_tokenize\n",
        "import os\n",
        "import glob\n",
        "import time\n",
        "from nltk.corpus import stopwords\n",
        "from nltk.stem import SnowballStemmer\n",
        "from nltk.tokenize import TweetTokenizer\n",
        "from nltk.tokenize import word_tokenize\n",
        "import re"
      ],
      "metadata": {
        "id": "BXSYGWGxCmfp"
      },
      "execution_count": null,
      "outputs": []
    },
    {
      "cell_type": "code",
      "source": [
        "def preprocess_lexicon(uni_txt, bi_txt, train_set, test_set):\n",
        "    glob.glob(\"lexica/*/*\")\n",
        "    d_uni = {}\n",
        "    for i in [i.strip() for i in open(uni_txt).readlines()]:\n",
        "        d_uni[i.split(\"\\t\")[0]] = i.split(\"\\t\")[1:]\n",
        "    d_bi = {}\n",
        "    # for i in [i.strip() for i in open(bi_txt).readlines()]:\n",
        "    #     d_bi[i.split(\"\\t\")[0]] = i.split(\"\\t\")[1:]\n",
        "\n",
        "    train_14feature = preprocess_check_data_in_lexicon(train_set, d_uni, d_bi)\n",
        "    #train_14feature=[[]]\n",
        "    #print('test_set shape is,',test_set.shape)\n",
        "    test_14feature = preprocess_check_data_in_lexicon(test_set, d_uni, d_bi)\n",
        "    print('test_14feature has the shape,', test_14feature.shape)\n",
        "    return train_14feature, test_14feature\n",
        "def preprocess_check_data_in_lexicon(dataset, d_uni,d_bi):\n",
        "    unilist = d_uni.keys()\n",
        "    un_usekey = {}\n",
        "    for i in tqdm(list(dataset[\"review\"])):\n",
        "      wordlist = i.split()\n",
        "      for word in wordlist:\n",
        "        if word in unilist:\n",
        "          un_usekey[word] = d_uni[word]\n",
        "        # for key in d_uni.keys():\n",
        "        #     if key in i:\n",
        "        #         un_usekey[key] = d_uni[key]\n",
        "        else:\n",
        "               pass\n",
        "    bi_usekey = {}\n",
        "    # for i in tqdm(list(dataset[\"review\"])):\n",
        "    #     for key in d_bi.keys():\n",
        "    #         if key in i:\n",
        "    #             bi_usekey[key] = d_bi[key]\n",
        "    #         else:\n",
        "    #             pass\n",
        "    return get_feature_vec(dataset, un_usekey, bi_usekey)\n",
        "def get_feature_vec(dataset, un_usekey, bi_usekey):\n",
        "\n",
        "    un_vec = getother_feature_gram(un_usekey, list(dataset[\"review\"]), sign=\"un\")\n",
        "    print('unvec shape is ', un_vec.shape)\n",
        "    # bi_vec = getother_feature_gram(bi_usekey,list(dataset[\"review\"]), sign=\"bi\")\n",
        "    # vec_lexfeature = np.concatenate([un_vec,bi_vec],axis=1)\n",
        "    #print('vec_lexfeature shape is ', vec_lexfeature.shape)\n",
        "    print('vec_lexfeature shape is ', un_vec.shape)\n",
        "    return un_vec\n",
        "\n",
        "def getother_feature_gram(d_bi, dfall, sign=\"bi\"):\n",
        "    pos_token_num = []\n",
        "    neg_token_num = []\n",
        "    score_all = []\n",
        "    pos_max_all = []\n",
        "    neg_max_all = []\n",
        "    neg_last_all = []\n",
        "    pos_last_all = []\n",
        "    for key in d_bi.keys():\n",
        "        d_bi[key][0] = float(d_bi[key][0])\n",
        "    for i in tqdm(dfall):\n",
        "        pos_token = 0\n",
        "        neg_token = 0\n",
        "        score = 0\n",
        "        pos_max = 0\n",
        "        neg_max = 0\n",
        "\n",
        "        for key in d_bi.keys():\n",
        "            if key in i:\n",
        "                if d_bi[key][0] >= 0:\n",
        "                    pos_token += 1\n",
        "                else:\n",
        "                    neg_token += 1\n",
        "                score += d_bi[key][0]\n",
        "                pos_max = max(pos_max, d_bi[key][0])\n",
        "                neg_max = min(neg_max, d_bi[key][0])\n",
        "        pos_token_num.append(pos_token)\n",
        "        neg_token_num.append(neg_token)\n",
        "        score_all.append(score)\n",
        "        pos_max_all.append(pos_max)\n",
        "        neg_max_all.append(neg_max)\n",
        "        pos_last = 0\n",
        "        neg_last = 0\n",
        "        if sign == \"un\":\n",
        "            i = i.split(\" \")\n",
        "            for z in i[::-1]:\n",
        "                if z in d_bi.keys():\n",
        "                    if d_bi[z][0] >= 0:\n",
        "                        pos_last = d_bi[z][0]\n",
        "                        break\n",
        "            for z in i[::-1]:\n",
        "                if z in d_bi.keys():\n",
        "                    if d_bi[key][0] < 0:\n",
        "                        neg_last = d_bi[key][0]\n",
        "                        break\n",
        "        elif sign == \"bi\":\n",
        "            i = i.split(\" \")\n",
        "            for z in reversed(range(len(i))):\n",
        "                if z - 1 >= 0:\n",
        "                    key = \" \".join(i[z - 1:z + 1])\n",
        "                    if key in d_bi.keys():\n",
        "                        if d_bi[key][0] >= 0:\n",
        "                            pos_last = d_bi[key][0]\n",
        "                            break\n",
        "            for z in reversed(range(len(i))):\n",
        "                if z - 1 >= 0:\n",
        "                    key = \" \".join(i[z - 1:z + 1])\n",
        "                    if key in d_bi.keys():\n",
        "                        if d_bi[key][0] < 0:\n",
        "                            neg_last = d_bi[key][0]\n",
        "                            break\n",
        "\n",
        "        neg_last_all.append(neg_last)\n",
        "        pos_last_all.append(pos_last)\n",
        "    pos_token_num = np.array(pos_token_num).reshape(-1, 1)\n",
        "    neg_token_num = np.array(neg_token_num).reshape(-1, 1)\n",
        "    score_all = np.array(score_all).reshape(-1, 1)\n",
        "    pos_max_all = np.array(pos_max_all).reshape(-1, 1)\n",
        "    neg_max_all = np.array(neg_max_all).reshape(-1, 1)\n",
        "    neg_last_all = np.array(neg_last_all).reshape(-1, 1)\n",
        "    pos_last_all = np.array(pos_last_all).reshape(-1, 1)\n",
        "    return np.concatenate([pos_token_num, neg_token_num, score_all, pos_max_all, neg_max_all, neg_last_all, pos_last_all], axis=1)"
      ],
      "metadata": {
        "id": "Ekup4tuc2Nyh"
      },
      "execution_count": null,
      "outputs": []
    },
    {
      "cell_type": "code",
      "source": [
        "uni_txt = \"/content/gdrive/MyDrive/6893/Emoticon-unigrams.txt\"\n",
        "bi_txt = \"/content/gdrive/MyDrive/6893/Emoticon-bigrams.txt\"\n",
        "train_set, test_set = X_train, X_test\n",
        "train_lexicon, test_lexicon = preprocess_lexicon(uni_txt,bi_txt,train_set,test_set)"
      ],
      "metadata": {
        "colab": {
          "base_uri": "https://localhost:8080/"
        },
        "id": "F41pWc5jCraO",
        "outputId": "dc13f4c4-4bff-4208-b2d7-20ace1dbdde9"
      },
      "execution_count": null,
      "outputs": [
        {
          "output_type": "stream",
          "name": "stderr",
          "text": [
            "100%|██████████| 168002/168002 [00:02<00:00, 63635.32it/s]\n",
            "100%|██████████| 168002/168002 [15:03<00:00, 185.99it/s]\n"
          ]
        },
        {
          "output_type": "stream",
          "name": "stdout",
          "text": [
            "unvec shape is  (168002, 7)\n",
            "vec_lexfeature shape is  (168002, 7)\n"
          ]
        },
        {
          "output_type": "stream",
          "name": "stderr",
          "text": [
            "100%|██████████| 42001/42001 [00:00<00:00, 69635.51it/s]\n",
            "100%|██████████| 42001/42001 [03:03<00:00, 229.33it/s]"
          ]
        },
        {
          "output_type": "stream",
          "name": "stdout",
          "text": [
            "unvec shape is  (42001, 7)\n",
            "vec_lexfeature shape is  (42001, 7)\n",
            "test_14feature has the shape, (42001, 7)\n"
          ]
        },
        {
          "output_type": "stream",
          "name": "stderr",
          "text": [
            "\n"
          ]
        }
      ]
    },
    {
      "cell_type": "code",
      "source": [
        "df_lexicon_train = pd.DataFrame(train_lexicon)\n",
        "df_lexicon_test = pd.DataFrame(test_lexicon)\n",
        "print(df_lexicon_train.shape)\n",
        "print(df_lexicon_test.shape)\n",
        "df_lexicon_train.to_csv('/content/gdrive/MyDrive/6893/df_lexicon_train.csv')\n",
        "df_lexicon_test.to_csv('/content/gdrive/MyDrive/6893/df_lexicon_test.csv')"
      ],
      "metadata": {
        "colab": {
          "base_uri": "https://localhost:8080/",
          "height": 236
        },
        "id": "p3ATDOIgFDbB",
        "outputId": "40e6c64d-730f-4a48-eae5-2881611b5a87"
      },
      "execution_count": 31,
      "outputs": [
        {
          "output_type": "error",
          "ename": "NameError",
          "evalue": "ignored",
          "traceback": [
            "\u001b[0;31m---------------------------------------------------------------------------\u001b[0m",
            "\u001b[0;31mNameError\u001b[0m                                 Traceback (most recent call last)",
            "\u001b[0;32m<ipython-input-31-845328ba7b2b>\u001b[0m in \u001b[0;36m<module>\u001b[0;34m()\u001b[0m\n\u001b[0;32m----> 1\u001b[0;31m \u001b[0mdf_lexicon_train\u001b[0m \u001b[0;34m=\u001b[0m \u001b[0mpd\u001b[0m\u001b[0;34m.\u001b[0m\u001b[0mDataFrame\u001b[0m\u001b[0;34m(\u001b[0m\u001b[0mtrain_lexicon\u001b[0m\u001b[0;34m)\u001b[0m\u001b[0;34m\u001b[0m\u001b[0;34m\u001b[0m\u001b[0m\n\u001b[0m\u001b[1;32m      2\u001b[0m \u001b[0mdf_lexicon_test\u001b[0m \u001b[0;34m=\u001b[0m \u001b[0mpd\u001b[0m\u001b[0;34m.\u001b[0m\u001b[0mDataFrame\u001b[0m\u001b[0;34m(\u001b[0m\u001b[0mtest_lexicon\u001b[0m\u001b[0;34m)\u001b[0m\u001b[0;34m\u001b[0m\u001b[0;34m\u001b[0m\u001b[0m\n\u001b[1;32m      3\u001b[0m \u001b[0mprint\u001b[0m\u001b[0;34m(\u001b[0m\u001b[0mdf_lexicon_train\u001b[0m\u001b[0;34m.\u001b[0m\u001b[0mshape\u001b[0m\u001b[0;34m)\u001b[0m\u001b[0;34m\u001b[0m\u001b[0;34m\u001b[0m\u001b[0m\n\u001b[1;32m      4\u001b[0m \u001b[0mprint\u001b[0m\u001b[0;34m(\u001b[0m\u001b[0mdf_lexicon_test\u001b[0m\u001b[0;34m.\u001b[0m\u001b[0mshape\u001b[0m\u001b[0;34m)\u001b[0m\u001b[0;34m\u001b[0m\u001b[0;34m\u001b[0m\u001b[0m\n\u001b[1;32m      5\u001b[0m \u001b[0mdf_lexicon_train\u001b[0m\u001b[0;34m.\u001b[0m\u001b[0mto_csv\u001b[0m\u001b[0;34m(\u001b[0m\u001b[0;34m'/content/gdrive/MyDrive/6893/df_lexicon_train.csv'\u001b[0m\u001b[0;34m)\u001b[0m\u001b[0;34m\u001b[0m\u001b[0;34m\u001b[0m\u001b[0m\n",
            "\u001b[0;31mNameError\u001b[0m: name 'train_lexicon' is not defined"
          ]
        }
      ]
    },
    {
      "cell_type": "code",
      "source": [
        "df_lexicon_train= pd.read_csv('/content/gdrive/MyDrive/6893/df_lexicon_train.csv')\n",
        "df_lexicon_test=pd.read_csv('/content/gdrive/MyDrive/6893/df_lexicon_test.csv')"
      ],
      "metadata": {
        "id": "uvptvFNDtAeQ"
      },
      "execution_count": 32,
      "outputs": []
    },
    {
      "cell_type": "code",
      "source": [
        "df_enhanced_train = pd.concat([df_ngram_train,df_lexicon_train],axis=1)\n",
        "df_enhanced_test = pd.concat([df_ngram_test,df_lexicon_test],axis=1)\n",
        "df_enhanced_train = df_ngram_train\n",
        "df_enhanced_test = df_ngram_test\n",
        "print(df_enhanced_train.shape)\n",
        "print(df_enhanced_test.shape)"
      ],
      "metadata": {
        "colab": {
          "base_uri": "https://localhost:8080/"
        },
        "id": "CpmVVhiHFR5G",
        "outputId": "97722fec-9b06-4c4c-ec08-6f6d9d69a95a"
      },
      "execution_count": 56,
      "outputs": [
        {
          "output_type": "stream",
          "name": "stdout",
          "text": [
            "(168002, 600)\n",
            "(42001, 600)\n"
          ]
        }
      ]
    },
    {
      "cell_type": "code",
      "source": [
        ""
      ],
      "metadata": {
        "colab": {
          "base_uri": "https://localhost:8080/",
          "height": 206
        },
        "id": "hYUZw3vcFUAa",
        "outputId": "a99f97d6-e7fa-4c8c-d4e2-a2c3e62fb104"
      },
      "execution_count": null,
      "outputs": [
        {
          "output_type": "execute_result",
          "data": {
            "text/html": [
              "<div>\n",
              "<style scoped>\n",
              "    .dataframe tbody tr th:only-of-type {\n",
              "        vertical-align: middle;\n",
              "    }\n",
              "\n",
              "    .dataframe tbody tr th {\n",
              "        vertical-align: top;\n",
              "    }\n",
              "\n",
              "    .dataframe thead th {\n",
              "        text-align: right;\n",
              "    }\n",
              "</style>\n",
              "<table border=\"1\" class=\"dataframe\">\n",
              "  <thead>\n",
              "    <tr style=\"text-align: right;\">\n",
              "      <th></th>\n",
              "      <th>0</th>\n",
              "      <th>1</th>\n",
              "      <th>2</th>\n",
              "      <th>3</th>\n",
              "      <th>4</th>\n",
              "      <th>5</th>\n",
              "      <th>6</th>\n",
              "      <th>7</th>\n",
              "      <th>8</th>\n",
              "      <th>9</th>\n",
              "      <th>10</th>\n",
              "      <th>11</th>\n",
              "      <th>12</th>\n",
              "      <th>13</th>\n",
              "    </tr>\n",
              "  </thead>\n",
              "  <tbody>\n",
              "    <tr>\n",
              "      <th>0</th>\n",
              "      <td>75.0</td>\n",
              "      <td>64.0</td>\n",
              "      <td>8.930</td>\n",
              "      <td>5.000</td>\n",
              "      <td>-1.651</td>\n",
              "      <td>-0.676</td>\n",
              "      <td>0.045</td>\n",
              "      <td>12.0</td>\n",
              "      <td>11.0</td>\n",
              "      <td>-4.921</td>\n",
              "      <td>0.742</td>\n",
              "      <td>-1.454</td>\n",
              "      <td>0.000</td>\n",
              "      <td>0.049</td>\n",
              "    </tr>\n",
              "    <tr>\n",
              "      <th>1</th>\n",
              "      <td>116.0</td>\n",
              "      <td>106.0</td>\n",
              "      <td>3.896</td>\n",
              "      <td>1.658</td>\n",
              "      <td>-4.999</td>\n",
              "      <td>-0.676</td>\n",
              "      <td>0.854</td>\n",
              "      <td>26.0</td>\n",
              "      <td>30.0</td>\n",
              "      <td>-9.282</td>\n",
              "      <td>1.658</td>\n",
              "      <td>-1.896</td>\n",
              "      <td>-1.742</td>\n",
              "      <td>0.378</td>\n",
              "    </tr>\n",
              "    <tr>\n",
              "      <th>2</th>\n",
              "      <td>149.0</td>\n",
              "      <td>125.0</td>\n",
              "      <td>5.281</td>\n",
              "      <td>5.000</td>\n",
              "      <td>-4.999</td>\n",
              "      <td>-0.676</td>\n",
              "      <td>0.359</td>\n",
              "      <td>45.0</td>\n",
              "      <td>40.0</td>\n",
              "      <td>-16.603</td>\n",
              "      <td>1.840</td>\n",
              "      <td>-4.999</td>\n",
              "      <td>-1.644</td>\n",
              "      <td>0.023</td>\n",
              "    </tr>\n",
              "    <tr>\n",
              "      <th>3</th>\n",
              "      <td>20.0</td>\n",
              "      <td>21.0</td>\n",
              "      <td>4.089</td>\n",
              "      <td>1.995</td>\n",
              "      <td>-0.418</td>\n",
              "      <td>-0.676</td>\n",
              "      <td>0.929</td>\n",
              "      <td>5.0</td>\n",
              "      <td>2.0</td>\n",
              "      <td>-0.229</td>\n",
              "      <td>1.289</td>\n",
              "      <td>-1.203</td>\n",
              "      <td>0.000</td>\n",
              "      <td>0.000</td>\n",
              "    </tr>\n",
              "    <tr>\n",
              "      <th>4</th>\n",
              "      <td>19.0</td>\n",
              "      <td>20.0</td>\n",
              "      <td>1.258</td>\n",
              "      <td>0.589</td>\n",
              "      <td>-0.692</td>\n",
              "      <td>-0.676</td>\n",
              "      <td>0.000</td>\n",
              "      <td>3.0</td>\n",
              "      <td>2.0</td>\n",
              "      <td>-0.353</td>\n",
              "      <td>0.742</td>\n",
              "      <td>-0.906</td>\n",
              "      <td>-0.906</td>\n",
              "      <td>0.000</td>\n",
              "    </tr>\n",
              "  </tbody>\n",
              "</table>\n",
              "</div>"
            ],
            "text/plain": [
              "      0      1      2      3      4   ...      9      10     11     12     13\n",
              "0   75.0   64.0  8.930  5.000 -1.651  ...  -4.921  0.742 -1.454  0.000  0.049\n",
              "1  116.0  106.0  3.896  1.658 -4.999  ...  -9.282  1.658 -1.896 -1.742  0.378\n",
              "2  149.0  125.0  5.281  5.000 -4.999  ... -16.603  1.840 -4.999 -1.644  0.023\n",
              "3   20.0   21.0  4.089  1.995 -0.418  ...  -0.229  1.289 -1.203  0.000  0.000\n",
              "4   19.0   20.0  1.258  0.589 -0.692  ...  -0.353  0.742 -0.906 -0.906  0.000\n",
              "\n",
              "[5 rows x 14 columns]"
            ]
          },
          "metadata": {},
          "execution_count": 35
        }
      ]
    },
    {
      "cell_type": "markdown",
      "source": [
        "## Model"
      ],
      "metadata": {
        "id": "BILA6Ear0pI8"
      }
    },
    {
      "cell_type": "markdown",
      "source": [
        "### Naive Bayes"
      ],
      "metadata": {
        "id": "Goc2ffOh0ro4"
      }
    },
    {
      "cell_type": "code",
      "source": [
        "from sklearn.metrics import classification_report\n",
        "from sklearn.naive_bayes import GaussianNB\n",
        "gnb = GaussianNB()\n",
        "gnb.fit(df_enhanced_train, y_train)\n",
        "print(classification_report(gnb.predict(df_enhanced_test), y_test,digits=3))\n",
        "y_pred = gnb.predict(df_enhanced_test)"
      ],
      "metadata": {
        "colab": {
          "base_uri": "https://localhost:8080/"
        },
        "id": "x5HokBp60rI-",
        "outputId": "f80a087d-b24b-4364-89d7-d70fa5ffca1b"
      },
      "execution_count": 57,
      "outputs": [
        {
          "output_type": "stream",
          "name": "stdout",
          "text": [
            "              precision    recall  f1-score   support\n",
            "\n",
            "           0      0.906     0.660     0.764     29036\n",
            "           1      0.526     0.848     0.649     12965\n",
            "\n",
            "    accuracy                          0.718     42001\n",
            "   macro avg      0.716     0.754     0.706     42001\n",
            "weighted avg      0.789     0.718     0.728     42001\n",
            "\n"
          ]
        }
      ]
    },
    {
      "cell_type": "markdown",
      "source": [
        "### SVM"
      ],
      "metadata": {
        "id": "cJN_dPc902g4"
      }
    },
    {
      "cell_type": "code",
      "source": [
        "# from sklearn.svm import SVC\n",
        "# svc = SVC(C=1, kernel=\"rbf\",gamma='auto')\n",
        "# svc.fit(df_tfidf_train, y_train)\n",
        "# print(classification_report(svc.predict(df_tfidf_test), y_test))"
      ],
      "metadata": {
        "id": "quZgwcUS04vB"
      },
      "execution_count": null,
      "outputs": []
    },
    {
      "cell_type": "code",
      "source": [
        ""
      ],
      "metadata": {
        "id": "B6QZGc1T7P5u"
      },
      "execution_count": null,
      "outputs": []
    },
    {
      "cell_type": "markdown",
      "source": [
        "### Logestic Regression"
      ],
      "metadata": {
        "id": "Rp8mc0827QSZ"
      }
    },
    {
      "cell_type": "code",
      "source": [
        "from sklearn.linear_model import LogisticRegression\n",
        "lr = LogisticRegression()\n",
        "lr.fit(df_enhanced_train, y_train)\n",
        "print(classification_report(lr.predict(df_enhanced_test), y_test,digits=3))\n",
        "y_pred = lr.predict(df_enhanced_test)"
      ],
      "metadata": {
        "colab": {
          "base_uri": "https://localhost:8080/",
          "height": 236
        },
        "id": "5TlErnPn7Uvy",
        "outputId": "6b730ff3-33fc-4068-b868-f976e4ab55ec"
      },
      "execution_count": 11,
      "outputs": [
        {
          "output_type": "error",
          "ename": "NameError",
          "evalue": "ignored",
          "traceback": [
            "\u001b[0;31m---------------------------------------------------------------------------\u001b[0m",
            "\u001b[0;31mNameError\u001b[0m                                 Traceback (most recent call last)",
            "\u001b[0;32m<ipython-input-11-35f0e00b4186>\u001b[0m in \u001b[0;36m<module>\u001b[0;34m()\u001b[0m\n\u001b[1;32m      1\u001b[0m \u001b[0;32mfrom\u001b[0m \u001b[0msklearn\u001b[0m\u001b[0;34m.\u001b[0m\u001b[0mlinear_model\u001b[0m \u001b[0;32mimport\u001b[0m \u001b[0mLogisticRegression\u001b[0m\u001b[0;34m\u001b[0m\u001b[0;34m\u001b[0m\u001b[0m\n\u001b[1;32m      2\u001b[0m \u001b[0mlr\u001b[0m \u001b[0;34m=\u001b[0m \u001b[0mLogisticRegression\u001b[0m\u001b[0;34m(\u001b[0m\u001b[0;34m)\u001b[0m\u001b[0;34m\u001b[0m\u001b[0;34m\u001b[0m\u001b[0m\n\u001b[0;32m----> 3\u001b[0;31m \u001b[0mlr\u001b[0m\u001b[0;34m.\u001b[0m\u001b[0mfit\u001b[0m\u001b[0;34m(\u001b[0m\u001b[0mdf_enhanced_train\u001b[0m\u001b[0;34m,\u001b[0m \u001b[0my_train\u001b[0m\u001b[0;34m)\u001b[0m\u001b[0;34m\u001b[0m\u001b[0;34m\u001b[0m\u001b[0m\n\u001b[0m\u001b[1;32m      4\u001b[0m \u001b[0mprint\u001b[0m\u001b[0;34m(\u001b[0m\u001b[0mclassification_report\u001b[0m\u001b[0;34m(\u001b[0m\u001b[0mlr\u001b[0m\u001b[0;34m.\u001b[0m\u001b[0mpredict\u001b[0m\u001b[0;34m(\u001b[0m\u001b[0mdf_enhanced_test\u001b[0m\u001b[0;34m)\u001b[0m\u001b[0;34m,\u001b[0m \u001b[0my_test\u001b[0m\u001b[0;34m,\u001b[0m\u001b[0mdigits\u001b[0m\u001b[0;34m=\u001b[0m\u001b[0;36m3\u001b[0m\u001b[0;34m)\u001b[0m\u001b[0;34m)\u001b[0m\u001b[0;34m\u001b[0m\u001b[0;34m\u001b[0m\u001b[0m\n\u001b[1;32m      5\u001b[0m \u001b[0my_pred\u001b[0m \u001b[0;34m=\u001b[0m \u001b[0mlr\u001b[0m\u001b[0;34m.\u001b[0m\u001b[0mpredict\u001b[0m\u001b[0;34m(\u001b[0m\u001b[0mdf_enhanced_test\u001b[0m\u001b[0;34m)\u001b[0m\u001b[0;34m\u001b[0m\u001b[0;34m\u001b[0m\u001b[0m\n",
            "\u001b[0;31mNameError\u001b[0m: name 'df_enhanced_train' is not defined"
          ]
        }
      ]
    },
    {
      "cell_type": "markdown",
      "source": [
        "## RandomForest"
      ],
      "metadata": {
        "id": "v2GDzUbBsvmf"
      }
    },
    {
      "cell_type": "code",
      "source": [
        "from sklearn.ensemble import RandomForestClassifier\n",
        "from sklearn.datasets import make_classification\n",
        "clf = RandomForestClassifier(max_depth=7, random_state=0)\n",
        "clf.fit(df_enhanced_train, y_train)\n",
        "#df_tfidf_test\n",
        "print(classification_report(clf.predict(df_enhanced_test), y_test,digits=3))\n",
        "y_pred = clf.predict(df_enhanced_test)"
      ],
      "metadata": {
        "colab": {
          "base_uri": "https://localhost:8080/"
        },
        "id": "gR3LcDaMsyCn",
        "outputId": "5a5e4560-a5d5-43ce-dc3a-911643779e0a"
      },
      "execution_count": 38,
      "outputs": [
        {
          "output_type": "stream",
          "name": "stdout",
          "text": [
            "              precision    recall  f1-score   support\n",
            "\n",
            "           0      0.844     0.682     0.755     26125\n",
            "           1      0.603     0.792     0.685     15876\n",
            "\n",
            "    accuracy                          0.724     42001\n",
            "   macro avg      0.723     0.737     0.720     42001\n",
            "weighted avg      0.753     0.724     0.728     42001\n",
            "\n"
          ]
        }
      ]
    },
    {
      "cell_type": "code",
      "source": [
        "print(classification_report(clf.predict(df_tfidf_test), y_test))"
      ],
      "metadata": {
        "colab": {
          "base_uri": "https://localhost:8080/"
        },
        "id": "bbDzQ7g0s8RP",
        "outputId": "dcd0eff7-8a4e-43ce-d9e3-d5ff0f2b5e09"
      },
      "execution_count": null,
      "outputs": [
        {
          "output_type": "stream",
          "name": "stdout",
          "text": [
            "              precision    recall  f1-score   support\n",
            "\n",
            "           0       0.84      0.72      0.77     24643\n",
            "           1       0.67      0.80      0.73     17358\n",
            "\n",
            "    accuracy                           0.75     42001\n",
            "   macro avg       0.75      0.76      0.75     42001\n",
            "weighted avg       0.77      0.75      0.75     42001\n",
            "\n"
          ]
        }
      ]
    },
    {
      "cell_type": "markdown",
      "source": [
        "## NN"
      ],
      "metadata": {
        "id": "9zcMJeKduH8e"
      }
    },
    {
      "cell_type": "code",
      "source": [
        "from sklearn.neural_network import MLPClassifier\n",
        "from sklearn.linear_model import LogisticRegression\n",
        "NN = MLPClassifier(solver='lbfgs', alpha=1e-5, hidden_layer_sizes=(128, 2), random_state=1)\n",
        "#LR = LogisticRegression(random_state=0).fit(X_train, Y_train)\n",
        "NN.fit(df_enhanced_train, y_train)\n",
        "#LR.fit(X_train, Y_train)\n",
        "print(classification_report(NN.predict(df_enhanced_test), y_test))\n",
        "y_pred = NN.predict(df_enhanced_test)"
      ],
      "metadata": {
        "colab": {
          "base_uri": "https://localhost:8080/"
        },
        "id": "ZieZUV07uLFj",
        "outputId": "d942fa61-b658-488b-82d0-1f3203de6d6e"
      },
      "execution_count": 41,
      "outputs": [
        {
          "output_type": "stream",
          "name": "stderr",
          "text": [
            "/usr/local/lib/python3.7/dist-packages/sklearn/neural_network/_multilayer_perceptron.py:549: ConvergenceWarning: lbfgs failed to converge (status=1):\n",
            "STOP: TOTAL NO. of ITERATIONS REACHED LIMIT.\n",
            "\n",
            "Increase the number of iterations (max_iter) or scale the data as shown in:\n",
            "    https://scikit-learn.org/stable/modules/preprocessing.html\n",
            "  self.n_iter_ = _check_optimize_result(\"lbfgs\", opt_res, self.max_iter)\n"
          ]
        },
        {
          "output_type": "stream",
          "name": "stdout",
          "text": [
            "              precision    recall  f1-score   support\n",
            "\n",
            "           0       0.85      0.80      0.82     22521\n",
            "           1       0.78      0.84      0.81     19480\n",
            "\n",
            "    accuracy                           0.81     42001\n",
            "   macro avg       0.81      0.82      0.81     42001\n",
            "weighted avg       0.82      0.81      0.81     42001\n",
            "\n"
          ]
        }
      ]
    },
    {
      "cell_type": "code",
      "source": [
        "acc = 0\n",
        "y_test=list(y_test)\n",
        "for i in range(len(y_pred)):\n",
        "  if y_pred[i]==y_test[i]:\n",
        "    acc += 1\n",
        "acc = acc/len(y_pred)\n",
        "acc"
      ],
      "metadata": {
        "colab": {
          "base_uri": "https://localhost:8080/"
        },
        "id": "3jacy02xu57c",
        "outputId": "467c4d1f-58b8-4781-c2e7-e42cc69e4d4c"
      },
      "execution_count": null,
      "outputs": [
        {
          "output_type": "execute_result",
          "data": {
            "text/plain": [
              "0.8140282374229185"
            ]
          },
          "metadata": {},
          "execution_count": 56
        }
      ]
    },
    {
      "cell_type": "code",
      "source": [
        "fpr, tpr, thresholds = metrics.roc_curve(list(y_test), list(y_pred), pos_label=1)\n",
        "metrics.auc(fpr, tpr)"
      ],
      "metadata": {
        "colab": {
          "base_uri": "https://localhost:8080/"
        },
        "id": "9VdP6FaoCV28",
        "outputId": "4a2183c3-7dff-42fa-f496-f159aebdad23"
      },
      "execution_count": 42,
      "outputs": [
        {
          "output_type": "execute_result",
          "data": {
            "text/plain": [
              "0.813823103012946"
            ]
          },
          "metadata": {},
          "execution_count": 42
        }
      ]
    },
    {
      "cell_type": "code",
      "source": [
        "from sklearn.metrics import roc_auc_score\n",
        "roc_auc_score(y_test, y_pred)"
      ],
      "metadata": {
        "colab": {
          "base_uri": "https://localhost:8080/"
        },
        "id": "NfxKDG8yqXFk",
        "outputId": "8bff2cdc-2221-4190-bfba-cddbb4a0c143"
      },
      "execution_count": 39,
      "outputs": [
        {
          "output_type": "execute_result",
          "data": {
            "text/plain": [
              "0.7233092236430292"
            ]
          },
          "metadata": {},
          "execution_count": 39
        }
      ]
    },
    {
      "cell_type": "code",
      "source": [
        "from nltk.corpus import stopwords\n",
        "list_dimensions = [1000,2000,3000,4000,5000,6000,7000]\n",
        "for k in list_dimensions:\n",
        "  en_stopwords = set(stopwords.words(\"english\"))\n",
        "  vector = TfidfVectorizer(max_features=k,stop_words=en_stopwords)\n",
        "  train_tfidf = vector.fit_transform(X_train['review'].apply(lambda x: np.str_(x)))\n",
        "  test_tfidf = vector.transform(X_test['review'].apply(lambda x: np.str_(x)))\n",
        "  df_tfidf_train = pd.DataFrame(train_tfidf.todense())\n",
        "  df_tfidf_test = pd.DataFrame(test_tfidf.todense())\n",
        "  lr = LogisticRegression()\n",
        "  lr.fit(df_tfidf_train, y_train)\n",
        "  print(classification_report(lr.predict(df_tfidf_test), y_test,digits=3))"
      ],
      "metadata": {
        "colab": {
          "base_uri": "https://localhost:8080/"
        },
        "id": "qrjikKWIsQBC",
        "outputId": "44133107-ff56-4f8b-ee50-666f86da13f0"
      },
      "execution_count": 15,
      "outputs": [
        {
          "output_type": "stream",
          "name": "stdout",
          "text": [
            "              precision    recall  f1-score   support\n",
            "\n",
            "           0      0.866     0.814     0.839     22466\n",
            "           1      0.800     0.855     0.827     19535\n",
            "\n",
            "    accuracy                          0.833     42001\n",
            "   macro avg      0.833     0.835     0.833     42001\n",
            "weighted avg      0.835     0.833     0.833     42001\n",
            "\n"
          ]
        },
        {
          "output_type": "stream",
          "name": "stderr",
          "text": [
            "/usr/local/lib/python3.7/dist-packages/sklearn/linear_model/_logistic.py:818: ConvergenceWarning: lbfgs failed to converge (status=1):\n",
            "STOP: TOTAL NO. of ITERATIONS REACHED LIMIT.\n",
            "\n",
            "Increase the number of iterations (max_iter) or scale the data as shown in:\n",
            "    https://scikit-learn.org/stable/modules/preprocessing.html\n",
            "Please also refer to the documentation for alternative solver options:\n",
            "    https://scikit-learn.org/stable/modules/linear_model.html#logistic-regression\n",
            "  extra_warning_msg=_LOGISTIC_SOLVER_CONVERGENCE_MSG,\n"
          ]
        },
        {
          "output_type": "stream",
          "name": "stdout",
          "text": [
            "              precision    recall  f1-score   support\n",
            "\n",
            "           0      0.875     0.832     0.853     22220\n",
            "           1      0.821     0.867     0.844     19781\n",
            "\n",
            "    accuracy                          0.849     42001\n",
            "   macro avg      0.848     0.850     0.848     42001\n",
            "weighted avg      0.850     0.849     0.849     42001\n",
            "\n"
          ]
        },
        {
          "output_type": "stream",
          "name": "stderr",
          "text": [
            "/usr/local/lib/python3.7/dist-packages/sklearn/linear_model/_logistic.py:818: ConvergenceWarning: lbfgs failed to converge (status=1):\n",
            "STOP: TOTAL NO. of ITERATIONS REACHED LIMIT.\n",
            "\n",
            "Increase the number of iterations (max_iter) or scale the data as shown in:\n",
            "    https://scikit-learn.org/stable/modules/preprocessing.html\n",
            "Please also refer to the documentation for alternative solver options:\n",
            "    https://scikit-learn.org/stable/modules/linear_model.html#logistic-regression\n",
            "  extra_warning_msg=_LOGISTIC_SOLVER_CONVERGENCE_MSG,\n"
          ]
        },
        {
          "output_type": "stream",
          "name": "stdout",
          "text": [
            "              precision    recall  f1-score   support\n",
            "\n",
            "           0      0.879     0.839     0.858     22118\n",
            "           1      0.830     0.871     0.850     19883\n",
            "\n",
            "    accuracy                          0.854     42001\n",
            "   macro avg      0.854     0.855     0.854     42001\n",
            "weighted avg      0.855     0.854     0.854     42001\n",
            "\n"
          ]
        },
        {
          "output_type": "stream",
          "name": "stderr",
          "text": [
            "/usr/local/lib/python3.7/dist-packages/sklearn/linear_model/_logistic.py:818: ConvergenceWarning: lbfgs failed to converge (status=1):\n",
            "STOP: TOTAL NO. of ITERATIONS REACHED LIMIT.\n",
            "\n",
            "Increase the number of iterations (max_iter) or scale the data as shown in:\n",
            "    https://scikit-learn.org/stable/modules/preprocessing.html\n",
            "Please also refer to the documentation for alternative solver options:\n",
            "    https://scikit-learn.org/stable/modules/linear_model.html#logistic-regression\n",
            "  extra_warning_msg=_LOGISTIC_SOLVER_CONVERGENCE_MSG,\n"
          ]
        },
        {
          "output_type": "stream",
          "name": "stdout",
          "text": [
            "              precision    recall  f1-score   support\n",
            "\n",
            "           0      0.880     0.843     0.861     22052\n",
            "           1      0.834     0.873     0.853     19949\n",
            "\n",
            "    accuracy                          0.857     42001\n",
            "   macro avg      0.857     0.858     0.857     42001\n",
            "weighted avg      0.858     0.857     0.857     42001\n",
            "\n"
          ]
        },
        {
          "output_type": "stream",
          "name": "stderr",
          "text": [
            "/usr/local/lib/python3.7/dist-packages/sklearn/linear_model/_logistic.py:818: ConvergenceWarning: lbfgs failed to converge (status=1):\n",
            "STOP: TOTAL NO. of ITERATIONS REACHED LIMIT.\n",
            "\n",
            "Increase the number of iterations (max_iter) or scale the data as shown in:\n",
            "    https://scikit-learn.org/stable/modules/preprocessing.html\n",
            "Please also refer to the documentation for alternative solver options:\n",
            "    https://scikit-learn.org/stable/modules/linear_model.html#logistic-regression\n",
            "  extra_warning_msg=_LOGISTIC_SOLVER_CONVERGENCE_MSG,\n"
          ]
        },
        {
          "output_type": "stream",
          "name": "stdout",
          "text": [
            "              precision    recall  f1-score   support\n",
            "\n",
            "           0      0.881     0.845     0.863     22015\n",
            "           1      0.837     0.874     0.855     19986\n",
            "\n",
            "    accuracy                          0.859     42001\n",
            "   macro avg      0.859     0.860     0.859     42001\n",
            "weighted avg      0.860     0.859     0.859     42001\n",
            "\n"
          ]
        },
        {
          "output_type": "stream",
          "name": "stderr",
          "text": [
            "/usr/local/lib/python3.7/dist-packages/sklearn/linear_model/_logistic.py:818: ConvergenceWarning: lbfgs failed to converge (status=1):\n",
            "STOP: TOTAL NO. of ITERATIONS REACHED LIMIT.\n",
            "\n",
            "Increase the number of iterations (max_iter) or scale the data as shown in:\n",
            "    https://scikit-learn.org/stable/modules/preprocessing.html\n",
            "Please also refer to the documentation for alternative solver options:\n",
            "    https://scikit-learn.org/stable/modules/linear_model.html#logistic-regression\n",
            "  extra_warning_msg=_LOGISTIC_SOLVER_CONVERGENCE_MSG,\n"
          ]
        },
        {
          "output_type": "stream",
          "name": "stdout",
          "text": [
            "              precision    recall  f1-score   support\n",
            "\n",
            "           0      0.881     0.847     0.864     21991\n",
            "           1      0.839     0.875     0.856     20010\n",
            "\n",
            "    accuracy                          0.860     42001\n",
            "   macro avg      0.860     0.861     0.860     42001\n",
            "weighted avg      0.861     0.860     0.860     42001\n",
            "\n"
          ]
        },
        {
          "output_type": "stream",
          "name": "stderr",
          "text": [
            "/usr/local/lib/python3.7/dist-packages/sklearn/linear_model/_logistic.py:818: ConvergenceWarning: lbfgs failed to converge (status=1):\n",
            "STOP: TOTAL NO. of ITERATIONS REACHED LIMIT.\n",
            "\n",
            "Increase the number of iterations (max_iter) or scale the data as shown in:\n",
            "    https://scikit-learn.org/stable/modules/preprocessing.html\n",
            "Please also refer to the documentation for alternative solver options:\n",
            "    https://scikit-learn.org/stable/modules/linear_model.html#logistic-regression\n",
            "  extra_warning_msg=_LOGISTIC_SOLVER_CONVERGENCE_MSG,\n"
          ]
        },
        {
          "output_type": "stream",
          "name": "stdout",
          "text": [
            "              precision    recall  f1-score   support\n",
            "\n",
            "           0      0.882     0.847     0.864     21985\n",
            "           1      0.839     0.875     0.857     20016\n",
            "\n",
            "    accuracy                          0.861     42001\n",
            "   macro avg      0.861     0.861     0.861     42001\n",
            "weighted avg      0.862     0.861     0.861     42001\n",
            "\n"
          ]
        }
      ]
    },
    {
      "cell_type": "code",
      "source": [
        "en_stopwords = set(stopwords.words(\"english\"))\n",
        "vector = TfidfVectorizer(max_features=2000,stop_words=en_stopwords)\n",
        "train_tfidf = vector.fit_transform(X_train['review'].apply(lambda x: np.str_(x)))\n",
        "test_tfidf = vector.transform(X_test['review'].apply(lambda x: np.str_(x)))\n",
        "df_tfidf_train = pd.DataFrame(train_tfidf.todense())\n",
        "df_tfidf_test = pd.DataFrame(test_tfidf.todense())\n",
        "lr = LogisticRegression()\n",
        "lr.fit(df_tfidf_train, y_train)\n",
        "print(classification_report(lr.predict(df_tfidf_test), y_test,digits=3))"
      ],
      "metadata": {
        "colab": {
          "base_uri": "https://localhost:8080/"
        },
        "id": "DfEcJvL8E1DX",
        "outputId": "970cd657-16b8-4941-ac4c-5e0d7040c695"
      },
      "execution_count": 16,
      "outputs": [
        {
          "output_type": "stream",
          "name": "stderr",
          "text": [
            "/usr/local/lib/python3.7/dist-packages/sklearn/linear_model/_logistic.py:818: ConvergenceWarning: lbfgs failed to converge (status=1):\n",
            "STOP: TOTAL NO. of ITERATIONS REACHED LIMIT.\n",
            "\n",
            "Increase the number of iterations (max_iter) or scale the data as shown in:\n",
            "    https://scikit-learn.org/stable/modules/preprocessing.html\n",
            "Please also refer to the documentation for alternative solver options:\n",
            "    https://scikit-learn.org/stable/modules/linear_model.html#logistic-regression\n",
            "  extra_warning_msg=_LOGISTIC_SOLVER_CONVERGENCE_MSG,\n"
          ]
        },
        {
          "output_type": "stream",
          "name": "stdout",
          "text": [
            "              precision    recall  f1-score   support\n",
            "\n",
            "           0      0.875     0.832     0.853     22220\n",
            "           1      0.821     0.867     0.844     19781\n",
            "\n",
            "    accuracy                          0.849     42001\n",
            "   macro avg      0.848     0.850     0.848     42001\n",
            "weighted avg      0.850     0.849     0.849     42001\n",
            "\n"
          ]
        }
      ]
    },
    {
      "cell_type": "code",
      "source": [
        "y_pred = lr.predict(df_tfidf_test)\n",
        "fpr, tpr, thresholds = metrics.roc_curve(list(y_test), list(y_pred), pos_label=1)\n",
        "metrics.auc(fpr, tpr)"
      ],
      "metadata": {
        "colab": {
          "base_uri": "https://localhost:8080/"
        },
        "id": "5kwn9TQfE75H",
        "outputId": "c7c48fe6-294e-4857-f8e7-c5eef75a62c5"
      },
      "execution_count": 18,
      "outputs": [
        {
          "output_type": "execute_result",
          "data": {
            "text/plain": [
              "0.8483663425775543"
            ]
          },
          "metadata": {},
          "execution_count": 18
        }
      ]
    }
  ]
}